{
 "cells": [
  {
   "cell_type": "code",
   "execution_count": 1,
   "id": "023cc30c",
   "metadata": {},
   "outputs": [],
   "source": [
    "import pandas as pd\n",
    "import numpy as np\n",
    "import matplotlib.pyplot as plt"
   ]
  },
  {
   "cell_type": "code",
   "execution_count": 2,
   "id": "f57460c1",
   "metadata": {},
   "outputs": [],
   "source": [
    "# we need ti import datagenerator from keras to import our images from our dataset\n",
    "import tensorflow as tf\n",
    "from tensorflow.keras.models import Sequential\n",
    "from tensorflow.keras.preprocessing.image import ImageDataGenerator"
   ]
  },
  {
   "cell_type": "code",
   "execution_count": 3,
   "id": "d5238f74",
   "metadata": {},
   "outputs": [],
   "source": [
    "train_datagen = ImageDataGenerator(rescale = 1./255,\n",
    "                                   shear_range = 0.2,\n",
    "                                   zoom_range = 0.2,\n",
    "                                   horizontal_flip = True)\n",
    "\n",
    "test_datagen = ImageDataGenerator(rescale = 1./255)"
   ]
  },
  {
   "cell_type": "code",
   "execution_count": 4,
   "id": "d6cde6d8",
   "metadata": {},
   "outputs": [
    {
     "name": "stdout",
     "output_type": "stream",
     "text": [
      "Found 416 images belonging to 2 classes.\n"
     ]
    }
   ],
   "source": [
    "# Make sure you provide the same target size as initialied for the image size\n",
    "training_set = train_datagen.flow_from_directory('D:\\pythonProject\\DATA SCIENCE\\malaria\\Dataset/Train',\n",
    "                                                 target_size = (224, 224),\n",
    "                                                 batch_size = 32,\n",
    "                                                 class_mode = 'categorical')"
   ]
  },
  {
   "cell_type": "code",
   "execution_count": 5,
   "id": "5470c53c",
   "metadata": {},
   "outputs": [
    {
     "name": "stdout",
     "output_type": "stream",
     "text": [
      "Found 134 images belonging to 2 classes.\n"
     ]
    }
   ],
   "source": [
    "test_set = test_set = test_datagen.flow_from_directory('D:\\pythonProject\\DATA SCIENCE\\malaria\\Dataset/Test',\n",
    "                                            target_size = (224, 224),\n",
    "                                            batch_size = 32,\n",
    "                                            class_mode = 'categorical')"
   ]
  },
  {
   "cell_type": "code",
   "execution_count": 9,
   "id": "ec922ac7",
   "metadata": {},
   "outputs": [
    {
     "name": "stdout",
     "output_type": "stream",
     "text": [
      "Model: \"sequential_3\"\n",
      "_________________________________________________________________\n",
      " Layer (type)                Output Shape              Param #   \n",
      "=================================================================\n",
      " conv2d_1 (Conv2D)           (None, 224, 224, 16)      208       \n",
      "                                                                 \n",
      " max_pooling2d (MaxPooling2D  (None, 112, 112, 16)     0         \n",
      " )                                                               \n",
      "                                                                 \n",
      " conv2d_2 (Conv2D)           (None, 112, 112, 32)      2080      \n",
      "                                                                 \n",
      " max_pooling2d_1 (MaxPooling  (None, 56, 56, 32)       0         \n",
      " 2D)                                                             \n",
      "                                                                 \n",
      " conv2d_3 (Conv2D)           (None, 56, 56, 64)        8256      \n",
      "                                                                 \n",
      " max_pooling2d_2 (MaxPooling  (None, 28, 28, 64)       0         \n",
      " 2D)                                                             \n",
      "                                                                 \n",
      " flatten (Flatten)           (None, 50176)             0         \n",
      "                                                                 \n",
      " dense (Dense)               (None, 500)               25088500  \n",
      "                                                                 \n",
      " dense_1 (Dense)             (None, 2)                 1002      \n",
      "                                                                 \n",
      "=================================================================\n",
      "Total params: 25,100,046\n",
      "Trainable params: 25,100,046\n",
      "Non-trainable params: 0\n",
      "_________________________________________________________________\n"
     ]
    }
   ],
   "source": [
    "### Create Model from scratch using CNN\n",
    "model=Sequential()\n",
    "model.add(tf.keras.layers.Conv2D(filters=16,kernel_size=2,padding=\"same\",activation=\"relu\",input_shape=(224,224,3)))\n",
    "model.add(tf.keras.layers.MaxPooling2D(pool_size=2))\n",
    "model.add(tf.keras.layers.Conv2D(filters=32,kernel_size=2,padding=\"same\",activation =\"relu\"))\n",
    "model.add(tf.keras.layers.MaxPooling2D(pool_size=2))\n",
    "model.add(tf.keras.layers.Conv2D(filters=64,kernel_size=2,padding=\"same\",activation=\"relu\"))\n",
    "model.add(tf.keras.layers.MaxPooling2D(pool_size=2))\n",
    "model.add(tf.keras.layers.Flatten())\n",
    "model.add(tf.keras.layers.Dense(500,activation=\"relu\"))\n",
    "model.add(tf.keras.layers.Dense(2,activation=\"softmax\"))\n",
    "model.summary()"
   ]
  },
  {
   "cell_type": "code",
   "execution_count": 10,
   "id": "c2e4d44c",
   "metadata": {},
   "outputs": [],
   "source": [
    "# tell the model what cost and optimization method to use\n",
    "model.compile(\n",
    "  loss='categorical_crossentropy',\n",
    "  optimizer='adam',\n",
    "  metrics=['accuracy']\n",
    ")"
   ]
  },
  {
   "cell_type": "code",
   "execution_count": 12,
   "id": "ad659cba",
   "metadata": {},
   "outputs": [
    {
     "name": "stderr",
     "output_type": "stream",
     "text": [
      "C:\\Users\\Temp\\AppData\\Local\\Temp/ipykernel_18888/4102162479.py:3: UserWarning: `Model.fit_generator` is deprecated and will be removed in a future version. Please use `Model.fit`, which supports generators.\n",
      "  r = model.fit_generator(\n"
     ]
    },
    {
     "name": "stdout",
     "output_type": "stream",
     "text": [
      "Epoch 1/50\n",
      "13/13 [==============================] - 11s 824ms/step - loss: 1.9195 - accuracy: 0.5264 - val_loss: 0.8138 - val_accuracy: 0.3657\n",
      "Epoch 2/50\n",
      "13/13 [==============================] - 10s 803ms/step - loss: 0.6868 - accuracy: 0.5553 - val_loss: 0.6822 - val_accuracy: 0.5075\n",
      "Epoch 3/50\n",
      "13/13 [==============================] - 10s 723ms/step - loss: 0.6557 - accuracy: 0.6442 - val_loss: 0.7201 - val_accuracy: 0.4552\n",
      "Epoch 4/50\n",
      "13/13 [==============================] - 9s 692ms/step - loss: 0.6703 - accuracy: 0.5817 - val_loss: 0.6859 - val_accuracy: 0.5522\n",
      "Epoch 5/50\n",
      "13/13 [==============================] - 10s 733ms/step - loss: 0.6761 - accuracy: 0.5673 - val_loss: 0.7030 - val_accuracy: 0.4403\n",
      "Epoch 6/50\n",
      "13/13 [==============================] - 10s 780ms/step - loss: 0.6549 - accuracy: 0.6130 - val_loss: 0.7023 - val_accuracy: 0.4701\n",
      "Epoch 7/50\n",
      "13/13 [==============================] - 10s 755ms/step - loss: 0.6590 - accuracy: 0.6106 - val_loss: 0.7487 - val_accuracy: 0.4478\n",
      "Epoch 8/50\n",
      "13/13 [==============================] - 10s 738ms/step - loss: 0.6495 - accuracy: 0.6178 - val_loss: 0.7669 - val_accuracy: 0.4254\n",
      "Epoch 9/50\n",
      "13/13 [==============================] - 11s 804ms/step - loss: 0.6302 - accuracy: 0.6538 - val_loss: 0.6719 - val_accuracy: 0.5672\n",
      "Epoch 10/50\n",
      "13/13 [==============================] - 10s 744ms/step - loss: 0.6126 - accuracy: 0.6514 - val_loss: 0.8860 - val_accuracy: 0.6791\n",
      "Epoch 11/50\n",
      "13/13 [==============================] - 10s 727ms/step - loss: 0.6768 - accuracy: 0.5962 - val_loss: 0.6422 - val_accuracy: 0.6343\n",
      "Epoch 12/50\n",
      "13/13 [==============================] - 10s 737ms/step - loss: 0.6430 - accuracy: 0.6154 - val_loss: 0.8876 - val_accuracy: 0.3881\n",
      "Epoch 13/50\n",
      "13/13 [==============================] - 10s 731ms/step - loss: 0.6164 - accuracy: 0.6659 - val_loss: 0.6597 - val_accuracy: 0.5746\n",
      "Epoch 14/50\n",
      "13/13 [==============================] - 10s 737ms/step - loss: 0.5388 - accuracy: 0.7188 - val_loss: 1.2245 - val_accuracy: 0.4179\n",
      "Epoch 15/50\n",
      "13/13 [==============================] - 10s 768ms/step - loss: 0.4304 - accuracy: 0.7861 - val_loss: 1.0031 - val_accuracy: 0.4030\n",
      "Epoch 16/50\n",
      "13/13 [==============================] - 11s 819ms/step - loss: 0.4665 - accuracy: 0.7861 - val_loss: 0.6602 - val_accuracy: 0.6045\n",
      "Epoch 17/50\n",
      "13/13 [==============================] - 10s 772ms/step - loss: 0.3896 - accuracy: 0.8221 - val_loss: 1.3244 - val_accuracy: 0.4328\n",
      "Epoch 18/50\n",
      "13/13 [==============================] - 10s 739ms/step - loss: 0.3599 - accuracy: 0.8558 - val_loss: 0.6090 - val_accuracy: 0.6567\n",
      "Epoch 19/50\n",
      "13/13 [==============================] - 10s 765ms/step - loss: 0.3464 - accuracy: 0.8486 - val_loss: 0.6138 - val_accuracy: 0.6567\n",
      "Epoch 20/50\n",
      "13/13 [==============================] - 10s 744ms/step - loss: 0.2643 - accuracy: 0.8894 - val_loss: 0.7811 - val_accuracy: 0.6493\n",
      "Epoch 21/50\n",
      "13/13 [==============================] - 10s 725ms/step - loss: 0.2412 - accuracy: 0.9111 - val_loss: 0.3907 - val_accuracy: 0.8358\n",
      "Epoch 22/50\n",
      "13/13 [==============================] - 10s 773ms/step - loss: 0.2323 - accuracy: 0.9255 - val_loss: 1.0000 - val_accuracy: 0.5672\n",
      "Epoch 23/50\n",
      "13/13 [==============================] - 10s 736ms/step - loss: 0.3744 - accuracy: 0.8269 - val_loss: 0.6982 - val_accuracy: 0.6119\n",
      "Epoch 24/50\n",
      "13/13 [==============================] - 10s 744ms/step - loss: 0.2356 - accuracy: 0.9111 - val_loss: 0.4257 - val_accuracy: 0.7836\n",
      "Epoch 25/50\n",
      "13/13 [==============================] - 10s 741ms/step - loss: 0.1796 - accuracy: 0.9303 - val_loss: 0.3060 - val_accuracy: 0.8731\n",
      "Epoch 26/50\n",
      "13/13 [==============================] - 10s 739ms/step - loss: 0.1382 - accuracy: 0.9639 - val_loss: 0.3030 - val_accuracy: 0.8582\n",
      "Epoch 27/50\n",
      "13/13 [==============================] - 10s 739ms/step - loss: 0.1428 - accuracy: 0.9543 - val_loss: 0.2883 - val_accuracy: 0.8582\n",
      "Epoch 28/50\n",
      "13/13 [==============================] - 10s 733ms/step - loss: 0.1277 - accuracy: 0.9615 - val_loss: 0.2892 - val_accuracy: 0.8507\n",
      "Epoch 29/50\n",
      "13/13 [==============================] - 10s 740ms/step - loss: 0.1209 - accuracy: 0.9639 - val_loss: 0.4850 - val_accuracy: 0.7687\n",
      "Epoch 30/50\n",
      "13/13 [==============================] - 10s 743ms/step - loss: 0.1423 - accuracy: 0.9495 - val_loss: 0.1831 - val_accuracy: 0.9179\n",
      "Epoch 31/50\n",
      "13/13 [==============================] - 10s 742ms/step - loss: 0.1082 - accuracy: 0.9615 - val_loss: 0.2579 - val_accuracy: 0.8955\n",
      "Epoch 32/50\n",
      "13/13 [==============================] - 10s 757ms/step - loss: 0.1228 - accuracy: 0.9639 - val_loss: 0.2534 - val_accuracy: 0.8731\n",
      "Epoch 33/50\n",
      "13/13 [==============================] - 10s 759ms/step - loss: 0.0826 - accuracy: 0.9808 - val_loss: 0.5337 - val_accuracy: 0.8358\n",
      "Epoch 34/50\n",
      "13/13 [==============================] - 10s 756ms/step - loss: 0.0822 - accuracy: 0.9736 - val_loss: 0.2602 - val_accuracy: 0.8881\n",
      "Epoch 35/50\n",
      "13/13 [==============================] - 10s 740ms/step - loss: 0.0805 - accuracy: 0.9760 - val_loss: 0.5373 - val_accuracy: 0.8284\n",
      "Epoch 36/50\n",
      "13/13 [==============================] - 10s 739ms/step - loss: 0.0806 - accuracy: 0.9784 - val_loss: 0.2464 - val_accuracy: 0.8955\n",
      "Epoch 37/50\n",
      "13/13 [==============================] - 10s 725ms/step - loss: 0.1249 - accuracy: 0.9543 - val_loss: 0.5237 - val_accuracy: 0.8433\n",
      "Epoch 38/50\n",
      "13/13 [==============================] - 9s 716ms/step - loss: 0.1107 - accuracy: 0.9832 - val_loss: 0.3200 - val_accuracy: 0.8731\n",
      "Epoch 39/50\n",
      "13/13 [==============================] - 10s 753ms/step - loss: 0.0545 - accuracy: 0.9832 - val_loss: 0.4724 - val_accuracy: 0.8582\n",
      "Epoch 40/50\n",
      "13/13 [==============================] - 10s 740ms/step - loss: 0.0635 - accuracy: 0.9784 - val_loss: 0.2950 - val_accuracy: 0.9104\n",
      "Epoch 41/50\n",
      "13/13 [==============================] - 10s 768ms/step - loss: 0.0686 - accuracy: 0.9784 - val_loss: 0.5119 - val_accuracy: 0.8507\n",
      "Epoch 42/50\n",
      "13/13 [==============================] - 10s 742ms/step - loss: 0.0717 - accuracy: 0.9784 - val_loss: 0.2122 - val_accuracy: 0.9104\n",
      "Epoch 43/50\n",
      "13/13 [==============================] - 10s 721ms/step - loss: 0.0974 - accuracy: 0.9688 - val_loss: 0.5445 - val_accuracy: 0.8507\n",
      "Epoch 44/50\n",
      "13/13 [==============================] - 10s 755ms/step - loss: 0.0697 - accuracy: 0.9880 - val_loss: 0.2028 - val_accuracy: 0.9179\n",
      "Epoch 45/50\n",
      "13/13 [==============================] - 11s 827ms/step - loss: 0.0822 - accuracy: 0.9712 - val_loss: 0.2864 - val_accuracy: 0.8881\n",
      "Epoch 46/50\n",
      "13/13 [==============================] - 10s 754ms/step - loss: 0.0466 - accuracy: 0.9904 - val_loss: 0.2802 - val_accuracy: 0.8881\n",
      "Epoch 47/50\n",
      "13/13 [==============================] - 10s 734ms/step - loss: 0.0427 - accuracy: 0.9880 - val_loss: 0.5296 - val_accuracy: 0.8582\n",
      "Epoch 48/50\n",
      "13/13 [==============================] - 10s 734ms/step - loss: 0.0867 - accuracy: 0.9760 - val_loss: 0.2403 - val_accuracy: 0.9030\n",
      "Epoch 49/50\n",
      "13/13 [==============================] - 10s 736ms/step - loss: 0.0790 - accuracy: 0.9856 - val_loss: 0.5884 - val_accuracy: 0.8582\n",
      "Epoch 50/50\n",
      "13/13 [==============================] - 10s 737ms/step - loss: 0.0634 - accuracy: 0.9784 - val_loss: 0.2397 - val_accuracy: 0.9030\n"
     ]
    }
   ],
   "source": [
    "# fit the model\n",
    "# Run the cell. It will take some time to execute\n",
    "r = model.fit_generator(\n",
    "  training_set,\n",
    "  validation_data=test_set,\n",
    "  epochs=50,\n",
    "  steps_per_epoch=len(training_set),\n",
    "  validation_steps=len(test_set)\n",
    ")"
   ]
  },
  {
   "cell_type": "code",
   "execution_count": 14,
   "id": "64d628a2",
   "metadata": {},
   "outputs": [
    {
     "name": "stdout",
     "output_type": "stream",
     "text": [
      "Model: \"sequential_3\"\n",
      "_________________________________________________________________\n",
      " Layer (type)                Output Shape              Param #   \n",
      "=================================================================\n",
      " conv2d_1 (Conv2D)           (None, 224, 224, 16)      208       \n",
      "                                                                 \n",
      " max_pooling2d (MaxPooling2D  (None, 112, 112, 16)     0         \n",
      " )                                                               \n",
      "                                                                 \n",
      " conv2d_2 (Conv2D)           (None, 112, 112, 32)      2080      \n",
      "                                                                 \n",
      " max_pooling2d_1 (MaxPooling  (None, 56, 56, 32)       0         \n",
      " 2D)                                                             \n",
      "                                                                 \n",
      " conv2d_3 (Conv2D)           (None, 56, 56, 64)        8256      \n",
      "                                                                 \n",
      " max_pooling2d_2 (MaxPooling  (None, 28, 28, 64)       0         \n",
      " 2D)                                                             \n",
      "                                                                 \n",
      " flatten (Flatten)           (None, 50176)             0         \n",
      "                                                                 \n",
      " dense (Dense)               (None, 500)               25088500  \n",
      "                                                                 \n",
      " dense_1 (Dense)             (None, 2)                 1002      \n",
      "                                                                 \n",
      "=================================================================\n",
      "Total params: 25,100,046\n",
      "Trainable params: 25,100,046\n",
      "Non-trainable params: 0\n",
      "_________________________________________________________________\n"
     ]
    }
   ],
   "source": [
    "model.summary()"
   ]
  },
  {
   "cell_type": "code",
   "execution_count": 26,
   "id": "4704962c",
   "metadata": {},
   "outputs": [
    {
     "data": {
      "text/plain": [
       "array([[9.99664426e-01, 3.35530174e-04],\n",
       "       [1.00000000e+00, 2.75926070e-12],\n",
       "       [7.00753480e-02, 9.29924726e-01],\n",
       "       [2.72323698e-01, 7.27676272e-01],\n",
       "       [9.99815762e-01, 1.84220029e-04],\n",
       "       [9.99969602e-01, 3.03633296e-05],\n",
       "       [9.99998927e-01, 1.09599864e-06],\n",
       "       [2.64056534e-01, 7.35943437e-01],\n",
       "       [3.09621960e-01, 6.90378010e-01],\n",
       "       [9.99155402e-01, 8.44594906e-04],\n",
       "       [9.99999523e-01, 4.29642995e-07],\n",
       "       [9.99520898e-01, 4.79159527e-04],\n",
       "       [9.99987721e-01, 1.22849051e-05],\n",
       "       [9.99999762e-01, 2.52115711e-07],\n",
       "       [9.96653497e-01, 3.34651535e-03],\n",
       "       [8.97656903e-02, 9.10234272e-01],\n",
       "       [9.99718726e-01, 2.81224231e-04],\n",
       "       [9.99821723e-01, 1.78305985e-04],\n",
       "       [4.90509458e-02, 9.50949073e-01],\n",
       "       [7.19696879e-02, 9.28030312e-01],\n",
       "       [9.99996424e-01, 3.56427222e-06],\n",
       "       [9.99999404e-01, 5.85773421e-07],\n",
       "       [1.54029667e-01, 8.45970333e-01],\n",
       "       [1.32636756e-01, 8.67363214e-01],\n",
       "       [1.49256125e-01, 8.50743890e-01],\n",
       "       [1.00000000e+00, 2.57295785e-09],\n",
       "       [4.02093440e-01, 5.97906530e-01],\n",
       "       [4.39209342e-02, 9.56079066e-01],\n",
       "       [9.99998808e-01, 1.21200219e-06],\n",
       "       [2.59317130e-01, 7.40682840e-01],\n",
       "       [1.31694838e-01, 8.68305087e-01],\n",
       "       [1.00000000e+00, 3.62192948e-14],\n",
       "       [8.22764874e-01, 1.77235112e-01],\n",
       "       [1.78133577e-01, 8.21866393e-01],\n",
       "       [2.62478918e-01, 7.37521052e-01],\n",
       "       [1.00000000e+00, 1.85612470e-10],\n",
       "       [5.03537096e-02, 9.49646235e-01],\n",
       "       [9.99974132e-01, 2.58625223e-05],\n",
       "       [9.99998927e-01, 1.09065286e-06],\n",
       "       [1.00000000e+00, 2.32050912e-09],\n",
       "       [9.99999762e-01, 2.87914474e-07],\n",
       "       [3.45485419e-01, 6.54514551e-01],\n",
       "       [9.21763897e-01, 7.82361031e-02],\n",
       "       [9.98991430e-01, 1.00853189e-03],\n",
       "       [5.77494502e-01, 4.22505528e-01],\n",
       "       [9.97506082e-01, 2.49394588e-03],\n",
       "       [3.41292053e-01, 6.58707976e-01],\n",
       "       [3.42128687e-02, 9.65787172e-01],\n",
       "       [9.99783576e-01, 2.16435277e-04],\n",
       "       [8.61633569e-02, 9.13836598e-01],\n",
       "       [1.89259108e-02, 9.81074035e-01],\n",
       "       [9.95908022e-01, 4.09201114e-03],\n",
       "       [6.66927546e-02, 9.33307171e-01],\n",
       "       [9.94091094e-01, 5.90885803e-03],\n",
       "       [1.58204794e-01, 8.41795206e-01],\n",
       "       [9.99995232e-01, 4.74239914e-06],\n",
       "       [1.52245000e-01, 8.47755015e-01],\n",
       "       [9.99984860e-01, 1.51516588e-05],\n",
       "       [2.48113558e-01, 7.51886487e-01],\n",
       "       [1.00000000e+00, 1.10970755e-13],\n",
       "       [9.91224825e-01, 8.77515133e-03],\n",
       "       [9.99804914e-01, 1.95161949e-04],\n",
       "       [6.06509507e-01, 3.93490493e-01],\n",
       "       [3.03604566e-02, 9.69639599e-01],\n",
       "       [9.96207237e-01, 3.79276532e-03],\n",
       "       [9.99976993e-01, 2.29963316e-05],\n",
       "       [1.36594608e-01, 8.63405347e-01],\n",
       "       [9.99997854e-01, 2.18268815e-06],\n",
       "       [1.03034496e-01, 8.96965504e-01],\n",
       "       [9.99996185e-01, 3.83884617e-06],\n",
       "       [3.67528833e-02, 9.63247120e-01],\n",
       "       [1.49388090e-01, 8.50611925e-01],\n",
       "       [3.35684359e-01, 6.64315641e-01],\n",
       "       [9.90078688e-01, 9.92134027e-03],\n",
       "       [7.55011737e-02, 9.24498796e-01],\n",
       "       [1.50256366e-01, 8.49743664e-01],\n",
       "       [7.62627304e-01, 2.37372711e-01],\n",
       "       [1.00000000e+00, 2.97127425e-08],\n",
       "       [9.99951720e-01, 4.82235300e-05],\n",
       "       [1.00000000e+00, 1.28485431e-10],\n",
       "       [9.99951482e-01, 4.84948796e-05],\n",
       "       [8.59942436e-01, 1.40057534e-01],\n",
       "       [9.99604046e-01, 3.95936630e-04],\n",
       "       [5.64378276e-02, 9.43562150e-01],\n",
       "       [3.86789352e-01, 6.13210678e-01],\n",
       "       [4.03913409e-02, 9.59608614e-01],\n",
       "       [5.99208027e-02, 9.40079212e-01],\n",
       "       [9.99988079e-01, 1.19287652e-05],\n",
       "       [7.04690218e-02, 9.29530978e-01],\n",
       "       [1.17984965e-01, 8.82015049e-01],\n",
       "       [9.99559820e-01, 4.40135656e-04],\n",
       "       [2.04364583e-01, 7.95635343e-01],\n",
       "       [6.32980913e-02, 9.36701953e-01],\n",
       "       [3.27098444e-02, 9.67290163e-01],\n",
       "       [9.99926329e-01, 7.37099690e-05],\n",
       "       [1.37287021e-01, 8.62712979e-01],\n",
       "       [9.99999642e-01, 3.47030891e-07],\n",
       "       [9.99111116e-01, 8.88896058e-04],\n",
       "       [3.50667775e-01, 6.49332225e-01],\n",
       "       [1.00000000e+00, 3.60437902e-09],\n",
       "       [9.99787152e-01, 2.12827668e-04],\n",
       "       [3.86464223e-02, 9.61353600e-01],\n",
       "       [9.99932051e-01, 6.79336299e-05],\n",
       "       [9.99964833e-01, 3.51671333e-05],\n",
       "       [4.29036357e-02, 9.57096398e-01],\n",
       "       [9.91829932e-01, 8.17006174e-03],\n",
       "       [1.11283973e-01, 8.88715982e-01],\n",
       "       [9.99479473e-01, 5.20519505e-04],\n",
       "       [4.22494113e-02, 9.57750618e-01],\n",
       "       [1.00000000e+00, 4.05621760e-12],\n",
       "       [1.00000000e+00, 5.29204947e-09],\n",
       "       [8.08021799e-02, 9.19197738e-01],\n",
       "       [9.99255598e-01, 7.44354445e-04],\n",
       "       [1.00000000e+00, 5.44447953e-09],\n",
       "       [9.65027213e-01, 3.49727906e-02],\n",
       "       [9.93155897e-01, 6.84404653e-03],\n",
       "       [9.99775946e-01, 2.24027710e-04],\n",
       "       [4.92864214e-02, 9.50713575e-01],\n",
       "       [9.99997377e-01, 2.66884467e-06],\n",
       "       [1.22422852e-01, 8.77577126e-01],\n",
       "       [3.15562487e-02, 9.68443692e-01],\n",
       "       [9.99986291e-01, 1.36999215e-05],\n",
       "       [9.99920607e-01, 7.93828585e-05],\n",
       "       [9.99855757e-01, 1.44263031e-04],\n",
       "       [1.00000000e+00, 4.42476694e-10],\n",
       "       [1.00000000e+00, 3.13270423e-20],\n",
       "       [9.99999642e-01, 3.80036880e-07],\n",
       "       [1.00000000e+00, 1.38055284e-13],\n",
       "       [9.98377204e-01, 1.62280642e-03],\n",
       "       [6.92631841e-01, 3.07368159e-01],\n",
       "       [7.82713592e-01, 2.17286319e-01],\n",
       "       [3.91059041e-01, 6.08940959e-01],\n",
       "       [1.00000000e+00, 1.75965834e-17],\n",
       "       [1.00000000e+00, 4.84713528e-12]], dtype=float32)"
      ]
     },
     "execution_count": 26,
     "metadata": {},
     "output_type": "execute_result"
    }
   ],
   "source": [
    "y_pred = model.predict(test_set)\n",
    "y_pred"
   ]
  },
  {
   "cell_type": "code",
   "execution_count": 27,
   "id": "0fa0c2ff",
   "metadata": {},
   "outputs": [],
   "source": [
    "import numpy as np"
   ]
  },
  {
   "cell_type": "code",
   "execution_count": 28,
   "id": "b5245a5f",
   "metadata": {},
   "outputs": [],
   "source": [
    "y_pred = np.argmax(y_pred,axis=1)"
   ]
  },
  {
   "cell_type": "code",
   "execution_count": 29,
   "id": "6d456687",
   "metadata": {},
   "outputs": [
    {
     "data": {
      "text/plain": [
       "array([0, 0, 1, 1, 0, 0, 0, 1, 1, 0, 0, 0, 0, 0, 0, 1, 0, 0, 1, 1, 0, 0,\n",
       "       1, 1, 1, 0, 1, 1, 0, 1, 1, 0, 0, 1, 1, 0, 1, 0, 0, 0, 0, 1, 0, 0,\n",
       "       0, 0, 1, 1, 0, 1, 1, 0, 1, 0, 1, 0, 1, 0, 1, 0, 0, 0, 0, 1, 0, 0,\n",
       "       1, 0, 1, 0, 1, 1, 1, 0, 1, 1, 0, 0, 0, 0, 0, 0, 0, 1, 1, 1, 1, 0,\n",
       "       1, 1, 0, 1, 1, 1, 0, 1, 0, 0, 1, 0, 0, 1, 0, 0, 1, 0, 1, 0, 1, 0,\n",
       "       0, 1, 0, 0, 0, 0, 0, 1, 0, 1, 1, 0, 0, 0, 0, 0, 0, 0, 0, 0, 0, 1,\n",
       "       0, 0], dtype=int64)"
      ]
     },
     "execution_count": 29,
     "metadata": {},
     "output_type": "execute_result"
    }
   ],
   "source": [
    "y_pred"
   ]
  },
  {
   "cell_type": "code",
   "execution_count": null,
   "id": "ce257731",
   "metadata": {},
   "outputs": [],
   "source": []
  }
 ],
 "metadata": {
  "kernelspec": {
   "display_name": "Python 3 (ipykernel)",
   "language": "python",
   "name": "python3"
  },
  "language_info": {
   "codemirror_mode": {
    "name": "ipython",
    "version": 3
   },
   "file_extension": ".py",
   "mimetype": "text/x-python",
   "name": "python",
   "nbconvert_exporter": "python",
   "pygments_lexer": "ipython3",
   "version": "3.9.7"
  }
 },
 "nbformat": 4,
 "nbformat_minor": 5
}
